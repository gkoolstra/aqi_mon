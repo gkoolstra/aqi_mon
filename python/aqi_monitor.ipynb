{
 "cells": [
  {
   "cell_type": "code",
   "execution_count": 1,
   "id": "628a2ef6",
   "metadata": {},
   "outputs": [],
   "source": [
    "import sys\n",
    "import glob\n",
    "import serial\n",
    "import time\n",
    "import visdom, gc\n",
    "import numpy as np\n",
    "import os\n",
    "from matplotlib import pyplot as plt\n",
    "from datetime import datetime, timezone\n",
    "\n",
    "#sys.path.append(r\"\")\n",
    "from liveplot.plotter import LivePlot\n",
    "\n",
    "%matplotlib inline\n",
    "%config InlineBackend.figure_format='retina'"
   ]
  },
  {
   "cell_type": "code",
   "execution_count": 2,
   "id": "db2c6a45",
   "metadata": {},
   "outputs": [],
   "source": [
    "def save_data(t, y, filename):\n",
    "    if isinstance(y, list):\n",
    "        datapoint = np.array([[t] + y])\n",
    "        data_format = '%s,'+'%s,'*(len(y)-1)+'%s'\n",
    "    else:\n",
    "        datapoint = np.array([[t, str(y)]])\n",
    "        data_format = '%s,%s'\n",
    "        \n",
    "    if os.path.exists(filename):\n",
    "        with open(filename, \"ab\") as f:\n",
    "            np.savetxt(f, datapoint, delimiter=',', fmt=data_format)   \n",
    "    else:\n",
    "        np.savetxt(filename, datapoint, delimiter=',', fmt=data_format, \n",
    "                   header=r\"\", comments=\"\")"
   ]
  },
  {
   "cell_type": "code",
   "execution_count": 4,
   "id": "933964ef",
   "metadata": {},
   "outputs": [
    {
     "name": "stdout",
     "output_type": "stream",
     "text": [
      "['/dev/tty.Bluetooth-Incoming-Port', '/dev/tty.usbmodem1101']\n"
     ]
    }
   ],
   "source": [
    "def serial_ports():\n",
    "    \"\"\" Lists serial port names\n",
    "\n",
    "        :raises EnvironmentError:\n",
    "            On unsupported or unknown platforms\n",
    "        :returns:\n",
    "            A list of the serial ports available on the system\n",
    "    \"\"\"\n",
    "    if sys.platform.startswith('win'):\n",
    "        ports = ['COM%s' % (i + 1) for i in range(256)]\n",
    "    elif sys.platform.startswith('linux') or sys.platform.startswith('cygwin'):\n",
    "        # this excludes your current terminal \"/dev/tty\"\n",
    "        ports = glob.glob('/dev/tty[A-Za-z]*')\n",
    "    elif sys.platform.startswith('darwin'):\n",
    "        ports = glob.glob('/dev/tty.*')\n",
    "    else:\n",
    "        raise EnvironmentError('Unsupported platform')\n",
    "\n",
    "    result = []\n",
    "    for port in ports:\n",
    "        try:\n",
    "            s = serial.Serial(port)\n",
    "            s.close()\n",
    "            result.append(port)\n",
    "        except (OSError, serial.SerialException):\n",
    "            pass\n",
    "    return result\n",
    "\n",
    "\n",
    "if __name__ == '__main__':\n",
    "    print(serial_ports())"
   ]
  },
  {
   "cell_type": "markdown",
   "metadata": {},
   "source": [
    "Replace the first argument in the `serial.Serial` function to the USB port used by the Arduino."
   ]
  },
  {
   "cell_type": "code",
   "execution_count": 5,
   "id": "a23a5a89",
   "metadata": {},
   "outputs": [],
   "source": [
    "ser = serial.Serial('/dev/tty.usbmodem1101', 9600)"
   ]
  },
  {
   "cell_type": "code",
   "execution_count": 6,
   "id": "a0ed0b00",
   "metadata": {},
   "outputs": [
    {
     "name": "stderr",
     "output_type": "stream",
     "text": [
      "Setting up a new session...\n"
     ]
    },
    {
     "name": "stdout",
     "output_type": "stream",
     "text": [
      "Closing plot window CO2 concentration...\n"
     ]
    }
   ],
   "source": [
    "co2_vals = list()\n",
    "temp_vals = list()\n",
    "hum_vals = list()\n",
    "\n",
    "p = LivePlot()\n",
    "# p.boot()\n",
    "p.clear_windows()\n",
    "t0 = time.time()\n",
    "# today = time.strftime(\"%Y%m%d\")"
   ]
  },
  {
   "cell_type": "code",
   "execution_count": 7,
   "id": "c535f220",
   "metadata": {},
   "outputs": [],
   "source": [
    "ser.flush()"
   ]
  },
  {
   "cell_type": "markdown",
   "metadata": {},
   "source": [
    "Test that the serial connection is responding:"
   ]
  },
  {
   "cell_type": "code",
   "execution_count": 9,
   "id": "5048d279",
   "metadata": {},
   "outputs": [
    {
     "data": {
      "text/plain": [
       "b'Found SGP30 serial #024E78E9\\r\\n'"
      ]
     },
     "execution_count": 9,
     "metadata": {},
     "output_type": "execute_result"
    }
   ],
   "source": [
    "ser.readline()"
   ]
  },
  {
   "cell_type": "markdown",
   "metadata": {},
   "source": [
    "After executing the cell below, make sure to check the visdom server in your webbrowser, and make sure that the log files are being written to. This cell runs indefinitely and the notebook should be kept open to collect the data."
   ]
  },
  {
   "cell_type": "code",
   "execution_count": null,
   "id": "06b3fef7",
   "metadata": {},
   "outputs": [],
   "source": [
    "plot_points = 300\n",
    "log_interval = 20\n",
    "\n",
    "# Savepath for the data\n",
    "basepath = r\"./data\" \n",
    "\n",
    "t_log = time.time()\n",
    "last_log_time = 0\n",
    "\n",
    "pm1_avg, pm2p5_avg, pm10_avg, voc_avg = list(), list(), list(), list()\n",
    "while True: \n",
    "    x = ser.readline()\n",
    "    try:\n",
    "        raw_values = x.decode().split(',')\n",
    "        co2_str, temp_str, hum_str, pres_str, alt_str, voc_str, eco2_str, pm1_str, pm2p5_str, pm10_str = raw_values\n",
    "        co2_ppm = int(co2_str.strip(r'\\r\\n').strip(r'OK '))\n",
    "        temp_c = float(temp_str)\n",
    "        hum_pct = float(hum_str)\n",
    "        pres_hpa = float(pres_str)\n",
    "        alt_m = float(alt_str)\n",
    "        voc = float(voc_str)\n",
    "        pm1 = float(pm1_str)\n",
    "        pm2p5 = float(pm2p5_str)\n",
    "        pm10 = float(pm10_str)\n",
    "        \n",
    "        if co2_ppm > 380: #anything below this value can't be physical\n",
    "            co2_vals.append(co2_ppm)\n",
    "            temp_vals.append(temp_c)\n",
    "            hum_vals.append(hum_pct)\n",
    "            t = time.time() - t0\n",
    "            # 300 pts is appr. 10 minutes.\n",
    "            p.liveplot_1d(t, co2_ppm, window_name=\"CO2 concentration\", max_pts=plot_points, xlabel=\"Time (s)\", ylabel=\"CO2 (ppm)\")\n",
    "\n",
    "    \n",
    "            pm1_avg.append(pm1)\n",
    "            pm2p5_avg.append(pm2p5)\n",
    "            pm10_avg.append(pm10)\n",
    "            voc_avg.append(voc)\n",
    "    \n",
    "            # Only save the data when log_interval has elapsed.\n",
    "            if time.time() - last_log_time > log_interval:\n",
    "                timestamp = time.strftime(\"%d-%m-%y,%H:%M:%S\")\n",
    "                today = time.strftime(\"%y-%m-%d\")\n",
    "                \n",
    "\n",
    "                save_data(timestamp, [temp_c, hum_pct, pres_hpa, alt_m], os.path.join(basepath, f\"THP {today}.log\"))\n",
    "                save_data(timestamp, [co2_ppm, np.mean(pm1_avg), np.mean(pm2p5_avg), np.mean(pm10_avg), np.mean(voc_avg)], \n",
    "                          os.path.join(basepath, f\"AQI {today}.log\"))\n",
    "                \n",
    "                last_log_time = time.time()\n",
    "                # Reset the averaging when a log as occurred.\n",
    "                pm1_avg, pm2p5_avg, pm10_avg, voc_avg = list(), list(), list(), list()\n",
    "            \n",
    "            # Even if your log_interval is larger than 1 second, you must still sleep here 1 second \n",
    "            # otherwise the buffer fills up and the data from the arduino is no longer current.\n",
    "            # The sleep time in the arduino is roughly 2 seconds for our sensor.\n",
    "            time.sleep(1.0)\n",
    "        else:\n",
    "            time.sleep(0.25)\n",
    "    except:\n",
    "        pass"
   ]
  }
 ],
 "metadata": {
  "kernelspec": {
   "display_name": "aqimon",
   "language": "python",
   "name": "aqimon"
  },
  "language_info": {
   "codemirror_mode": {
    "name": "ipython",
    "version": 3
   },
   "file_extension": ".py",
   "mimetype": "text/x-python",
   "name": "python",
   "nbconvert_exporter": "python",
   "pygments_lexer": "ipython3",
   "version": "3.11.5"
  }
 },
 "nbformat": 4,
 "nbformat_minor": 5
}
